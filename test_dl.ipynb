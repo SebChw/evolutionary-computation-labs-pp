{
 "cells": [
  {
   "cell_type": "code",
   "execution_count": 2,
   "metadata": {},
   "outputs": [],
   "source": [
    "import json\n",
    "import pandas as pd\n"
   ]
  },
  {
   "cell_type": "code",
   "execution_count": 3,
   "metadata": {},
   "outputs": [],
   "source": [
    "with open(\"solutions_evo_NEW.json\", \"r\") as f:\n",
    "    data = json.load(f)\n",
    "    # data = pd.DataFrame(data\n",
    "\n",
    "X = {problem: [] for problem in data}\n",
    "y = {problem: [] for problem in data}\n",
    "\n",
    "for problem, problem_results in data.items():\n",
    "    for result in problem_results:\n",
    "        for x, cost in zip(result[\"X\"], result[\"y\"]):\n",
    "            X[problem].append(x)\n",
    "            y[problem].append(cost)\n",
    "    X[problem] = pd.Series(X[problem])\n",
    "    y[problem] = pd.Series(y[problem])\n"
   ]
  },
  {
   "cell_type": "code",
   "execution_count": 86,
   "metadata": {},
   "outputs": [
    {
     "data": {
      "text/plain": [
       "count                                                 36325\n",
       "unique                                                22438\n",
       "top       [177, 75, 189, 109, 119, 134, 99, 101, 167, 17...\n",
       "freq                                                    143\n",
       "dtype: object"
      ]
     },
     "execution_count": 86,
     "metadata": {},
     "output_type": "execute_result"
    }
   ],
   "source": [
    "TSPA_X = pd.Series(X[\"TSPA\"])\n",
    "TSPA_y = pd.Series(y[\"TSPA\"])\n",
    "TSPA_X.describe()\n"
   ]
  },
  {
   "cell_type": "code",
   "execution_count": 87,
   "metadata": {},
   "outputs": [
    {
     "data": {
      "text/plain": [
       "count    36325.000000\n",
       "mean     74155.719862\n",
       "std        929.807696\n",
       "min      72905.000000\n",
       "25%      73500.000000\n",
       "50%      73819.000000\n",
       "75%      74531.000000\n",
       "max      80653.000000\n",
       "dtype: float64"
      ]
     },
     "execution_count": 87,
     "metadata": {},
     "output_type": "execute_result"
    }
   ],
   "source": [
    "TSPA_y.describe()"
   ]
  },
  {
   "cell_type": "code",
   "execution_count": 88,
   "metadata": {},
   "outputs": [
    {
     "name": "stdout",
     "output_type": "stream",
     "text": [
      "{76141.0}\n"
     ]
    }
   ],
   "source": [
    "most_common = TSPA_X.value_counts().idxmax()\n",
    "values = []\n",
    "for i, obj in enumerate(TSPA_X):\n",
    "    if obj == most_common:\n",
    "        values.append(TSPA_y[i])\n",
    "\n",
    "print(set(values))\n"
   ]
  },
  {
   "cell_type": "markdown",
   "metadata": {},
   "source": [
    "We can drop all the same values from X"
   ]
  },
  {
   "cell_type": "code",
   "execution_count": 89,
   "metadata": {},
   "outputs": [],
   "source": [
    "for problem in X:\n",
    "    # drop all duplicates from X and corresponding y\n",
    "    X[problem] = X[problem].drop_duplicates()\n",
    "    y[problem] = y[problem].loc[X[problem].index]"
   ]
  },
  {
   "cell_type": "code",
   "execution_count": 90,
   "metadata": {},
   "outputs": [
    {
     "name": "stdout",
     "output_type": "stream",
     "text": [
      "count    22438.000000\n",
      "mean         0.639050\n",
      "std          0.480287\n",
      "min          0.000000\n",
      "25%          0.000000\n",
      "50%          1.000000\n",
      "75%          1.000000\n",
      "max          1.000000\n",
      "dtype: float64\n",
      "count    23214.000000\n",
      "mean         0.652968\n",
      "std          0.476036\n",
      "min          0.000000\n",
      "25%          0.000000\n",
      "50%          1.000000\n",
      "75%          1.000000\n",
      "max          1.000000\n",
      "dtype: float64\n",
      "count    23582.000000\n",
      "mean         0.673225\n",
      "std          0.469044\n",
      "min          0.000000\n",
      "25%          0.000000\n",
      "50%          1.000000\n",
      "75%          1.000000\n",
      "max          1.000000\n",
      "dtype: float64\n",
      "count    24206.000000\n",
      "mean         0.666612\n",
      "std          0.471434\n",
      "min          0.000000\n",
      "25%          0.000000\n",
      "50%          1.000000\n",
      "75%          1.000000\n",
      "max          1.000000\n",
      "dtype: float64\n"
     ]
    }
   ],
   "source": [
    "for problem in y:\n",
    "    mean = y[problem].mean()\n",
    "    y[problem][y[problem] <= mean] = 1\n",
    "    y[problem][y[problem] > mean] = 0\n",
    "    print(y[problem].describe())\n"
   ]
  },
  {
   "cell_type": "code",
   "execution_count": 91,
   "metadata": {},
   "outputs": [
    {
     "name": "stdout",
     "output_type": "stream",
     "text": [
      "\n",
      "\n",
      "Training TSPA classifier\n",
      "SVC accuracy: 0.7693336304880767\n",
      "RandomForestClassifier accuracy: 0.7851571205705371\n",
      "AdaBoostClassifier accuracy: 0.7321149988856697\n",
      "MLPClassifier accuracy: 0.7147314464007132\n",
      "\n",
      "\n",
      "Training TSPB classifier\n",
      "SVC accuracy: 0.7675570874623008\n",
      "RandomForestClassifier accuracy: 0.7781128823782852\n",
      "AdaBoostClassifier accuracy: 0.7279190004308488\n",
      "MLPClassifier accuracy: 0.7339508832399828\n",
      "\n",
      "\n",
      "Training TSPC classifier\n",
      "SVC accuracy: 0.832273112807464\n",
      "RandomForestClassifier accuracy: 0.8379983036471587\n",
      "AdaBoostClassifier accuracy: 0.792832909245123\n",
      "MLPClassifier accuracy: 0.6694232400339271\n",
      "\n",
      "\n",
      "Training TSPD classifier\n",
      "SVC accuracy: 0.7469531088618054\n",
      "RandomForestClassifier accuracy: 0.7436480066102045\n",
      "AdaBoostClassifier accuracy: 0.6996488328857674\n",
      "MLPClassifier accuracy: 0.5432761826068994\n"
     ]
    }
   ],
   "source": [
    "# train classifier for each problem\n",
    "from sklearn.model_selection import train_test_split\n",
    "from sklearn.svm import SVC\n",
    "\n",
    "# import random forest and other classifiers\n",
    "from sklearn.ensemble import RandomForestClassifier\n",
    "from sklearn.ensemble import AdaBoostClassifier\n",
    "from sklearn.neural_network import MLPClassifier\n",
    "from sklearn.metrics import accuracy_score\n",
    "\n",
    "\n",
    "classifiers = {}\n",
    "\n",
    "for problem in X:\n",
    "    X_array = X[problem].apply(pd.Series).values\n",
    "\n",
    "    # X_train, X_test, y_train, y_test = train_test_split(\n",
    "    #     X_array, y[problem], test_size=0.2, random_state=42\n",
    "    # )\n",
    "    n = len(X_array)\n",
    "    X_train, X_test, y_train, y_test = (\n",
    "        X_array[: int(n * 0.8)],\n",
    "        X_array[int(n * 0.8) + 1 :],\n",
    "        y[problem][: int(n * 0.8)],\n",
    "        y[problem][int(n * 0.8) + 1 :],\n",
    "    )\n",
    "    best_Acc = 0\n",
    "    print(f\"\\n\\nTraining {problem} classifier\")\n",
    "    for clf in [SVC, RandomForestClassifier, AdaBoostClassifier, MLPClassifier]:\n",
    "        clf_name = clf.__name__\n",
    "        clf = clf()\n",
    "        clf.fit(X_train, y_train)\n",
    "        y_pred = clf.predict(X_test)\n",
    "        acc = accuracy_score(y_test, y_pred)\n",
    "        print(f\"{clf_name} accuracy: {acc}\")\n",
    "        if acc > best_Acc:\n",
    "            best_Acc = acc\n",
    "            classifiers[problem] = clf\n"
   ]
  },
  {
   "cell_type": "markdown",
   "metadata": {},
   "source": [
    "Grid search for randomforest - unfrtunately no time for it"
   ]
  },
  {
   "cell_type": "code",
   "execution_count": 101,
   "metadata": {},
   "outputs": [
    {
     "name": "stdout",
     "output_type": "stream",
     "text": [
      "\n",
      "\n",
      "Training TSPA classifier\n",
      "Fitting 3 folds for each of 100 candidates, totalling 300 fits\n"
     ]
    }
   ],
   "source": [
    "from sklearn.model_selection import RandomizedSearchCV\n",
    "from sklearn.ensemble import RandomForestClassifier\n",
    "import numpy as np\n",
    "\n",
    "for problem in X:\n",
    "    X_array = X[problem].apply(pd.Series).values\n",
    "\n",
    "    # X_train, X_test, y_train, y_test = train_test_split(\n",
    "    #     X_array, y[problem], test_size=0.2, random_state=42\n",
    "    # )\n",
    "    n = len(X_array)\n",
    "    X_train, X_test, y_train, y_test = (\n",
    "        X_array[: int(n * 0.8)],\n",
    "        X_array[int(n * 0.8) + 1:],\n",
    "        y[problem][: int(n * 0.8)],\n",
    "        y[problem][int(n * 0.8) + 1:],\n",
    "    )\n",
    "    best_Acc = 0\n",
    "    print(f\"\\n\\nTraining {problem} classifier\")\n",
    "\n",
    "    rf = RandomForestClassifier()\n",
    "    random_grid = {\n",
    "        \"n_estimators\": [100, 150, 200, 250],\n",
    "        \"max_depth\": [None, 10, 20, 40, 60, 100],\n",
    "        \"min_samples_split\": [2, 5, 10],\n",
    "        \"min_samples_leaf\": [1, 2, 4],\n",
    "        \"bootstrap\": [True, False],\n",
    "    }\n",
    "\n",
    "    rf_random = RandomizedSearchCV(\n",
    "        estimator=rf,\n",
    "        param_distributions=random_grid,\n",
    "        n_iter=10,\n",
    "        cv=3,\n",
    "        verbose=2,\n",
    "        random_state=42,\n",
    "        n_jobs=-1,\n",
    "    )\n",
    "\n",
    "    rf_random.fit(X_train, y_train)\n",
    "\n",
    "    print(rf_random.best_params_)\n",
    "    print(rf_random.best_score_)\n",
    "    classifiers[problem] = rf_random.best_estimator_"
   ]
  },
  {
   "cell_type": "code",
   "execution_count": 80,
   "metadata": {},
   "outputs": [
    {
     "name": "stdout",
     "output_type": "stream",
     "text": [
      "\n",
      "\n",
      "Training TSPA classifier\n",
      "50: 0.45401174168297453\n",
      "100: 0.3659491193737769\n",
      "150: 0.4344422700587084\n",
      "200: 0.4207436399217221\n",
      "250: 0.41682974559686886\n",
      "300: 0.4657534246575342\n",
      "350: 0.5675146771037182\n",
      "400: 0.6829745596868885\n",
      "450: 0.6340508806262231\n",
      "500: 0.7377690802348337\n",
      "550: 0.7906066536203522\n",
      "600: 0.7514677103718199\n",
      "650: 0.7338551859099804\n",
      "700: 0.7729941291585127\n",
      "750: 0.7495107632093934\n",
      "800: 0.7553816046966731\n",
      "850: 0.7808219178082192\n",
      "900: 0.7455968688845401\n",
      "950: 0.7925636007827789\n",
      "1000: 0.7729941291585127\n",
      "1050: 0.7475538160469667\n",
      "1100: 0.6614481409001957\n",
      "1150: 0.7025440313111546\n",
      "1200: 0.7377690802348337\n",
      "1250: 0.7142857142857143\n",
      "1300: 0.7671232876712328\n",
      "1350: 0.786692759295499\n",
      "1400: 0.7671232876712328\n",
      "1450: 0.7808219178082192\n",
      "1500: 0.7318982387475538\n",
      "1550: 0.7514677103718199\n",
      "1600: 0.776908023483366\n",
      "1650: 0.7710371819960861\n",
      "1700: 0.7397260273972602\n",
      "1750: 0.7299412915851272\n",
      "1800: 0.7181996086105675\n",
      "1850: 0.7573385518590998\n",
      "1900: 0.7299412915851272\n",
      "1950: 0.7318982387475538\n",
      "2000: 0.7906066536203522\n",
      "2050: 0.786692759295499\n",
      "2100: 0.8277886497064579\n",
      "2150: 0.7847358121330724\n",
      "2200: 0.7710371819960861\n",
      "2250: 0.7886497064579256\n",
      "2300: 0.8101761252446184\n",
      "2350: 0.7925636007827789\n",
      "2400: 0.7984344422700587\n",
      "2450: 0.776908023483366\n",
      "2500: 0.7690802348336595\n",
      "2550: 0.8101761252446184\n",
      "\n",
      "\n",
      "Training TSPB classifier\n",
      "50: 0.5404896421845574\n",
      "100: 0.576271186440678\n",
      "150: 0.512241054613936\n",
      "200: 0.5536723163841808\n",
      "250: 0.6346516007532956\n",
      "300: 0.6572504708097928\n",
      "350: 0.544256120527307\n",
      "400: 0.5461393596986818\n",
      "450: 0.559322033898305\n",
      "500: 0.5875706214689266\n",
      "550: 0.5480225988700564\n",
      "600: 0.5404896421845574\n",
      "650: 0.4934086629001883\n",
      "700: 0.527306967984934\n",
      "750: 0.5291902071563088\n",
      "800: 0.559322033898305\n",
      "850: 0.5028248587570622\n",
      "900: 0.5329566854990584\n",
      "950: 0.5291902071563088\n",
      "1000: 0.5743879472693032\n",
      "1050: 0.576271186440678\n",
      "1100: 0.5800376647834274\n",
      "1150: 0.6214689265536724\n",
      "1200: 0.664783427495292\n",
      "1250: 0.583804143126177\n",
      "1300: 0.6384180790960452\n",
      "1350: 0.6949152542372882\n",
      "1400: 0.6572504708097928\n",
      "1450: 0.6760828625235404\n",
      "1500: 0.655367231638418\n",
      "1550: 0.664783427495292\n",
      "1600: 0.6779661016949152\n",
      "1650: 0.672316384180791\n",
      "1700: 0.64030131826742\n",
      "1750: 0.7005649717514124\n",
      "1800: 0.6930320150659134\n",
      "1850: 0.6516007532956686\n",
      "1900: 0.5856873822975518\n",
      "1950: 0.623352165725047\n",
      "2000: 0.6045197740112994\n",
      "2050: 0.6610169491525424\n",
      "2100: 0.6610169491525424\n",
      "2150: 0.672316384180791\n",
      "2200: 0.6139359698681732\n",
      "2250: 0.6421845574387948\n",
      "2300: 0.6534839924670434\n",
      "2350: 0.6459510357815442\n",
      "2400: 0.6685499058380414\n",
      "2450: 0.6308851224105462\n",
      "2500: 0.6817325800376648\n",
      "2550: 0.6591337099811676\n",
      "2600: 0.664783427495292\n",
      "2650: 0.632768361581921\n",
      "\n",
      "\n",
      "Training TSPC classifier\n",
      "50: 0.6296296296296297\n",
      "100: 0.6255144032921811\n",
      "150: 0.7510288065843621\n",
      "200: 0.7633744855967078\n",
      "250: 0.8518518518518519\n",
      "300: 0.8518518518518519\n",
      "350: 0.8600823045267489\n",
      "400: 0.8559670781893004\n",
      "450: 0.8580246913580247\n",
      "500: 0.8497942386831275\n",
      "550: 0.8518518518518519\n",
      "600: 0.8641975308641975\n",
      "650: 0.8662551440329218\n",
      "700: 0.8600823045267489\n",
      "750: 0.8683127572016461\n",
      "800: 0.8683127572016461\n",
      "850: 0.8600823045267489\n",
      "900: 0.8621399176954733\n",
      "950: 0.8641975308641975\n",
      "1000: 0.8703703703703703\n",
      "1050: 0.8683127572016461\n",
      "1100: 0.8641975308641975\n",
      "1150: 0.8683127572016461\n",
      "1200: 0.8683127572016461\n",
      "1250: 0.8641975308641975\n",
      "1300: 0.8580246913580247\n",
      "1350: 0.8662551440329218\n",
      "1400: 0.831275720164609\n",
      "1450: 0.8580246913580247\n",
      "1500: 0.8621399176954733\n",
      "1550: 0.8580246913580247\n",
      "1600: 0.8641975308641975\n",
      "1650: 0.8395061728395061\n",
      "1700: 0.8662551440329218\n",
      "1750: 0.8415637860082305\n",
      "1800: 0.8641975308641975\n",
      "1850: 0.8395061728395061\n",
      "1900: 0.8436213991769548\n",
      "1950: 0.8621399176954733\n",
      "2000: 0.8662551440329218\n",
      "2050: 0.8374485596707819\n",
      "2100: 0.8415637860082305\n",
      "2150: 0.8600823045267489\n",
      "2200: 0.8477366255144033\n",
      "2250: 0.8662551440329218\n",
      "2300: 0.8436213991769548\n",
      "2350: 0.8271604938271605\n",
      "2400: 0.8641975308641975\n",
      "\n",
      "\n",
      "Training TSPD classifier\n",
      "50: 0.29135338345864664\n",
      "100: 0.4473684210526316\n",
      "150: 0.4943609022556391\n",
      "200: 0.5507518796992481\n",
      "250: 0.49624060150375937\n",
      "300: 0.5845864661654135\n",
      "350: 0.543233082706767\n",
      "400: 0.45864661654135336\n",
      "450: 0.5225563909774437\n",
      "500: 0.556390977443609\n",
      "550: 0.6372180451127819\n",
      "600: 0.6259398496240601\n",
      "650: 0.4906015037593985\n",
      "700: 0.5789473684210527\n",
      "750: 0.631578947368421\n",
      "800: 0.5808270676691729\n",
      "850: 0.556390977443609\n",
      "900: 0.5375939849624061\n",
      "950: 0.5263157894736842\n",
      "1000: 0.6259398496240601\n",
      "1050: 0.6296992481203008\n",
      "1100: 0.6409774436090225\n",
      "1150: 0.5977443609022557\n",
      "1200: 0.6635338345864662\n",
      "1250: 0.6447368421052632\n",
      "1300: 0.6334586466165414\n",
      "1350: 0.6165413533834586\n",
      "1400: 0.6898496240601504\n",
      "1450: 0.6578947368421053\n",
      "1500: 0.5451127819548872\n",
      "1550: 0.599624060150376\n",
      "1600: 0.5112781954887218\n",
      "1650: 0.5657894736842105\n",
      "1700: 0.4924812030075188\n",
      "1750: 0.6879699248120301\n",
      "1800: 0.6616541353383458\n",
      "1850: 0.6409774436090225\n",
      "1900: 0.6240601503759399\n",
      "1950: 0.6804511278195489\n",
      "2000: 0.6823308270676691\n",
      "2050: 0.7105263157894737\n",
      "2100: 0.6484962406015038\n",
      "2150: 0.6898496240601504\n",
      "2200: 0.7161654135338346\n",
      "2250: 0.7236842105263158\n",
      "2300: 0.6766917293233082\n",
      "2350: 0.6597744360902256\n",
      "2400: 0.7180451127819549\n",
      "2450: 0.6860902255639098\n",
      "2500: 0.7030075187969925\n",
      "2550: 0.6860902255639098\n",
      "2600: 0.6616541353383458\n",
      "2650: 0.6353383458646616\n"
     ]
    }
   ],
   "source": [
    "classifiers_small = {problem: {i: 0 for i in range(50, 2300, 50)} for problem in X}\n",
    "\n",
    "for problem in X:\n",
    "    X_array = X[problem].apply(pd.Series).values\n",
    "\n",
    "    # X_train, X_test, y_train, y_test = train_test_split(\n",
    "    #     X_array, y[problem], test_size=0.2, random_state=42\n",
    "    # )\n",
    "    n = len(X_array)\n",
    "    X_train, X_test, y_train, y_test = (\n",
    "        X_array[: int(n * 0.8)],\n",
    "        X_array[int(n * 0.8) + 1 :],\n",
    "        y[problem][: int(n * 0.8)],\n",
    "        y[problem][int(n * 0.8) + 1 :],\n",
    "    )\n",
    "    print(f\"\\n\\nTraining {problem} classifier\")\n",
    "    for i in range(50, n, 50):\n",
    "        X_train_small = X_train[:i]\n",
    "        y_train_small = y_train[:i]\n",
    "        for clf in [RandomForestClassifier]:\n",
    "            clf_name = clf.__name__\n",
    "            clf = clf()\n",
    "            clf.fit(X_train_small, y_train_small)\n",
    "            y_pred = clf.predict(X_test)\n",
    "            acc = accuracy_score(y_test, y_pred)\n",
    "            classifiers_small[problem][i] = acc\n",
    "            print(f\"{i}: {acc}\")\n"
   ]
  },
  {
   "cell_type": "code",
   "execution_count": 81,
   "metadata": {},
   "outputs": [
    {
     "data": {
      "image/png": "[encoded data removed]",
      "text/plain": [
       "<Figure size 640x480 with 1 Axes>"
      ]
     },
     "metadata": {},
     "output_type": "display_data"
    }
   ],
   "source": [
    "import seaborn as sns\n",
    "import matplotlib.pyplot as plt\n",
    "\n",
    "for problem in classifiers_small:\n",
    "    plt.plot(\n",
    "        classifiers_small[problem].keys(),\n",
    "        classifiers_small[problem].values(),\n",
    "        label=problem,\n",
    "    )\n",
    "    plt.legend()\n"
   ]
  },
  {
   "cell_type": "code",
   "execution_count": 92,
   "metadata": {},
   "outputs": [],
   "source": [
    "# save classifiers\n",
    "import pickle\n",
    "import os\n",
    "\n",
    "for problem in classifiers:\n",
    "    # ensure existence of classifiers folder\n",
    "    try:\n",
    "        os.mkdir(\"classifiers\")\n",
    "    except FileExistsError:\n",
    "        pass\n",
    "    with open(f\"classifiers/{problem}_big.pkl\", \"wb\") as f:\n",
    "        pickle.dump(classifiers[problem], f)\n"
   ]
  },
  {
   "cell_type": "code",
   "execution_count": 93,
   "metadata": {},
   "outputs": [
    {
     "name": "stdout",
     "output_type": "stream",
     "text": [
      "TSPA: 0.9569926018361707\n",
      "TSPB: 0.9556302231412079\n",
      "TSPC: 0.9676024086167416\n",
      "TSPD: 0.909526563661902\n"
     ]
    }
   ],
   "source": [
    "# open classifiers and predict on X and y\n",
    "for problem in classifiers:\n",
    "    with open(f\"classifiers/{problem}_big.pkl\", \"rb\") as f:\n",
    "        clf = pickle.load(f)\n",
    "        y_pred = clf.predict(X[problem].apply(pd.Series).values)\n",
    "        print(f\"{problem}: {accuracy_score(y[problem], y_pred)}\")\n"
   ]
  },
  {
   "cell_type": "code",
   "execution_count": 100,
   "metadata": {},
   "outputs": [
    {
     "name": "stdout",
     "output_type": "stream",
     "text": [
      "[1.]\n"
     ]
    }
   ],
   "source": [
    "import random\n",
    "\n",
    "random_100 = [random.randint(0, 1) for _ in range(100)]\n",
    "with open(f\"classifiers/TSPA_big.pkl\", \"rb\") as f:\n",
    "    clf = pickle.load(f)\n",
    "    y_pred = clf.predict([random_100])\n",
    "    print(y_pred)"
   ]
  },
  {
   "cell_type": "code",
   "execution_count": 5,
   "metadata": {},
   "outputs": [
    {
     "name": "stdout",
     "output_type": "stream",
     "text": [
      "74155.71986235376\n",
      "67488.92591495435\n",
      "48630.734787472036\n",
      "45073.078555863445\n"
     ]
    }
   ],
   "source": [
    "for problem in y:\n",
    "    print(y[problem].mean())\n"
   ]
  },
  {
   "cell_type": "code",
   "execution_count": null,
   "metadata": {},
   "outputs": [],
   "source": []
  }
 ],
 "metadata": {
  "kernelspec": {
   "display_name": "Python 3",
   "language": "python",
   "name": "python3"
  },
  "language_info": {
   "codemirror_mode": {
    "name": "ipython",
    "version": 3
   },
   "file_extension": ".py",
   "mimetype": "text/x-python",
   "name": "python",
   "nbconvert_exporter": "python",
   "pygments_lexer": "ipython3",
   "version": "3.10.10"
  }
 },
 "nbformat": 4,
 "nbformat_minor": 2
}
